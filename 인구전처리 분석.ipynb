{
  "nbformat": 4,
  "nbformat_minor": 0,
  "metadata": {
    "colab": {
      "name": "Contest test pile.ipynb",
      "provenance": [],
      "collapsed_sections": [],
      "authorship_tag": "ABX9TyMjT/vGo1qCkWETDhf4IfX0",
      "include_colab_link": true
    },
    "kernelspec": {
      "name": "python3",
      "display_name": "Python 3"
    },
    "language_info": {
      "name": "python"
    }
  },
  "cells": [
    {
      "cell_type": "markdown",
      "metadata": {
        "id": "view-in-github",
        "colab_type": "text"
      },
      "source": [
        "<a href=\"https://colab.research.google.com/github/dongchimi12/KKJ/blob/main/%EC%9D%B8%EA%B5%AC%EC%A0%84%EC%B2%98%EB%A6%AC%20%EB%B6%84%EC%84%9D.ipynb\" target=\"_parent\"><img src=\"https://colab.research.google.com/assets/colab-badge.svg\" alt=\"Open In Colab\"/></a>"
      ]
    },
    {
      "cell_type": "code",
      "metadata": {
        "id": "VmBujtBqDhx-"
      },
      "source": [
        "import pandas as pd\n",
        "import numpy as np\n",
        "import matplotlib.pyplot as plt\n",
        "import seaborn as sns\n",
        "from sklearn import datasets"
      ],
      "execution_count": 22,
      "outputs": []
    },
    {
      "cell_type": "code",
      "metadata": {
        "id": "VH-sQwkEDji2",
        "colab": {
          "base_uri": "https://localhost:8080/"
        },
        "outputId": "0ce5df83-b8b5-4be2-9bba-c610b1077549"
      },
      "source": [
        "from google.colab import drive\n",
        "drive.mount('/content/drive')   ## 링크 클릭해서 구글 로그인 한후에 드라이브에 데이터 넣고 [3]에 파일 이름만 바꿔주면 됨"
      ],
      "execution_count": 23,
      "outputs": [
        {
          "output_type": "stream",
          "text": [
            "Drive already mounted at /content/drive; to attempt to forcibly remount, call drive.mount(\"/content/drive\", force_remount=True).\n"
          ],
          "name": "stdout"
        }
      ]
    },
    {
      "cell_type": "code",
      "metadata": {
        "id": "zeWErXUcDkel"
      },
      "source": [
        "test = pd.read_csv('/content/drive/My Drive/contest/test.csv', encoding='cp949') ## 파일 test에 저장"
      ],
      "execution_count": 24,
      "outputs": []
    },
    {
      "cell_type": "code",
      "metadata": {
        "colab": {
          "base_uri": "https://localhost:8080/",
          "height": 204
        },
        "id": "dGAWW0EsTCcl",
        "outputId": "b90cfc5e-a30b-4dc2-897c-b8043f3e0d36"
      },
      "source": [
        "test.head(5) ## 위에서 5행까지 출력 test용"
      ],
      "execution_count": 25,
      "outputs": [
        {
          "output_type": "execute_result",
          "data": {
            "text/html": [
              "<div>\n",
              "<style scoped>\n",
              "    .dataframe tbody tr th:only-of-type {\n",
              "        vertical-align: middle;\n",
              "    }\n",
              "\n",
              "    .dataframe tbody tr th {\n",
              "        vertical-align: top;\n",
              "    }\n",
              "\n",
              "    .dataframe thead th {\n",
              "        text-align: right;\n",
              "    }\n",
              "</style>\n",
              "<table border=\"1\" class=\"dataframe\">\n",
              "  <thead>\n",
              "    <tr style=\"text-align: right;\">\n",
              "      <th></th>\n",
              "      <th>동 이름</th>\n",
              "      <th>센터 이름</th>\n",
              "      <th>center_p</th>\n",
              "      <th>city_p</th>\n",
              "    </tr>\n",
              "  </thead>\n",
              "  <tbody>\n",
              "    <tr>\n",
              "      <th>0</th>\n",
              "      <td>오륜동</td>\n",
              "      <td>KSPO송파</td>\n",
              "      <td>243</td>\n",
              "      <td>18341</td>\n",
              "    </tr>\n",
              "    <tr>\n",
              "      <th>1</th>\n",
              "      <td>풍기동=온양6동</td>\n",
              "      <td>KSPO아산</td>\n",
              "      <td>26</td>\n",
              "      <td>29224</td>\n",
              "    </tr>\n",
              "    <tr>\n",
              "      <th>2</th>\n",
              "      <td>내곡동</td>\n",
              "      <td>강릉</td>\n",
              "      <td>44</td>\n",
              "      <td>16534</td>\n",
              "    </tr>\n",
              "    <tr>\n",
              "      <th>3</th>\n",
              "      <td>신도안면</td>\n",
              "      <td>계룡</td>\n",
              "      <td>16</td>\n",
              "      <td>8759</td>\n",
              "    </tr>\n",
              "    <tr>\n",
              "      <th>4</th>\n",
              "      <td>곡성읍</td>\n",
              "      <td>곡성</td>\n",
              "      <td>140</td>\n",
              "      <td>7990</td>\n",
              "    </tr>\n",
              "  </tbody>\n",
              "</table>\n",
              "</div>"
            ],
            "text/plain": [
              "       동 이름   센터 이름  center_p  city_p\n",
              "0       오륜동  KSPO송파       243   18341\n",
              "1  풍기동=온양6동  KSPO아산        26   29224\n",
              "2       내곡동      강릉        44   16534\n",
              "3      신도안면      계룡        16    8759\n",
              "4       곡성읍      곡성       140    7990"
            ]
          },
          "metadata": {
            "tags": []
          },
          "execution_count": 25
        }
      ]
    },
    {
      "cell_type": "code",
      "metadata": {
        "colab": {
          "base_uri": "https://localhost:8080/"
        },
        "id": "ZY9ZSFtyTY9o",
        "outputId": "c594a8a1-bd1c-42ab-b065-b4fba241ec4f"
      },
      "source": [
        "test.info()\n",
        "test.columns ## 행수 count , datatype\n",
        "test.isnull().sum() ## 빈칸 찾기"
      ],
      "execution_count": 26,
      "outputs": [
        {
          "output_type": "stream",
          "text": [
            "<class 'pandas.core.frame.DataFrame'>\n",
            "RangeIndex: 48 entries, 0 to 47\n",
            "Data columns (total 4 columns):\n",
            " #   Column    Non-Null Count  Dtype \n",
            "---  ------    --------------  ----- \n",
            " 0   동 이름      48 non-null     object\n",
            " 1   센터 이름     48 non-null     object\n",
            " 2   center_p  48 non-null     int64 \n",
            " 3   city_p    48 non-null     int64 \n",
            "dtypes: int64(2), object(2)\n",
            "memory usage: 1.6+ KB\n"
          ],
          "name": "stdout"
        },
        {
          "output_type": "execute_result",
          "data": {
            "text/plain": [
              "동 이름        0\n",
              "센터 이름       0\n",
              "center_p    0\n",
              "city_p      0\n",
              "dtype: int64"
            ]
          },
          "metadata": {
            "tags": []
          },
          "execution_count": 26
        }
      ]
    },
    {
      "cell_type": "code",
      "metadata": {
        "id": "0g-f-nuvTqwX",
        "colab": {
          "base_uri": "https://localhost:8080/",
          "height": 111
        },
        "outputId": "b889a3a7-1c5e-442e-fed8-5ab41c42de8f"
      },
      "source": [
        "df = pd.DataFrame(test) ## pandas 이용 dataframe 생성\n",
        "\n",
        "corr = df.corr(method = 'pearson') ## 상관계수 분석 (전체)\n",
        "corr"
      ],
      "execution_count": 27,
      "outputs": [
        {
          "output_type": "execute_result",
          "data": {
            "text/html": [
              "<div>\n",
              "<style scoped>\n",
              "    .dataframe tbody tr th:only-of-type {\n",
              "        vertical-align: middle;\n",
              "    }\n",
              "\n",
              "    .dataframe tbody tr th {\n",
              "        vertical-align: top;\n",
              "    }\n",
              "\n",
              "    .dataframe thead th {\n",
              "        text-align: right;\n",
              "    }\n",
              "</style>\n",
              "<table border=\"1\" class=\"dataframe\">\n",
              "  <thead>\n",
              "    <tr style=\"text-align: right;\">\n",
              "      <th></th>\n",
              "      <th>center_p</th>\n",
              "      <th>city_p</th>\n",
              "    </tr>\n",
              "  </thead>\n",
              "  <tbody>\n",
              "    <tr>\n",
              "      <th>center_p</th>\n",
              "      <td>1.000000</td>\n",
              "      <td>-0.034821</td>\n",
              "    </tr>\n",
              "    <tr>\n",
              "      <th>city_p</th>\n",
              "      <td>-0.034821</td>\n",
              "      <td>1.000000</td>\n",
              "    </tr>\n",
              "  </tbody>\n",
              "</table>\n",
              "</div>"
            ],
            "text/plain": [
              "          center_p    city_p\n",
              "center_p  1.000000 -0.034821\n",
              "city_p   -0.034821  1.000000"
            ]
          },
          "metadata": {
            "tags": []
          },
          "execution_count": 27
        }
      ]
    },
    {
      "cell_type": "code",
      "metadata": {
        "colab": {
          "base_uri": "https://localhost:8080/",
          "height": 335
        },
        "id": "Fo5xkS8qkQoX",
        "outputId": "1664befc-a011-41bc-872a-986527eaf777"
      },
      "source": [
        "fig = plt.figure(figsize=(10, 5))\n",
        "ax1 = fig.add_subplot(1, 2, 1)\n",
        "ax2 = fig.add_subplot(1, 2, 2)\n",
        "sns.regplot(x='city_p', y='center_p', data=test, ax=ax1)          # 회귀선 표시\n",
        "sns.regplot(x='city_p', y='center_p', data=test, ax=ax2, fit_reg=False)  #회귀선 미표시\n",
        "plt.show()"
      ],
      "execution_count": 35,
      "outputs": [
        {
          "output_type": "display_data",
          "data": {
            "image/png": "[encoded data removed]",
            "text/plain": [
              "<Figure size 720x360 with 2 Axes>"
            ]
          },
          "metadata": {
            "tags": [],
            "needs_background": "light"
          }
        }
      ]
    },
    {
      "cell_type": "code",
      "metadata": {
        "colab": {
          "base_uri": "https://localhost:8080/",
          "height": 1000
        },
        "id": "sXvL2NofSsNR",
        "outputId": "2f50b430-d74f-49a4-95d3-ed37b4d9099f"
      },
      "source": [
        "f,ax = plt.subplots(figsize=(20, 20))\n",
        "sns.heatmap(test.corr(), annot=True, linewidths=.5, fmt= '.2f',ax=ax)\n",
        "plt.show()"
      ],
      "execution_count": 33,
      "outputs": [
        {
          "output_type": "display_data",
          "data": {
            "image/png": "[encoded data removed]",
            "text/plain": [
              "<Figure size 1440x1440 with 2 Axes>"
            ]
          },
          "metadata": {
            "tags": [],
            "needs_background": "light"
          }
        }
      ]
    },
    {
      "cell_type": "code",
      "metadata": {
        "colab": {
          "base_uri": "https://localhost:8080/",
          "height": 314
        },
        "id": "Lh4E21xsSyaA",
        "outputId": "31fbe8fd-fecb-4623-f5b6-d620005452d2"
      },
      "source": [
        "test.plot(kind=\"scatter\", x=\"center_p\", y=\"city_p\", alpha=0.1, title=\"contract\") ## 산점도 밀집도 분석"
      ],
      "execution_count": 30,
      "outputs": [
        {
          "output_type": "execute_result",
          "data": {
            "text/plain": [
              "<matplotlib.axes._subplots.AxesSubplot at 0x7fd5d9910fd0>"
            ]
          },
          "metadata": {
            "tags": []
          },
          "execution_count": 30
        },
        {
          "output_type": "display_data",
          "data": {
            "image/png": "[encoded data removed]",
            "text/plain": [
              "<Figure size 432x288 with 1 Axes>"
            ]
          },
          "metadata": {
            "tags": [],
            "needs_background": "light"
          }
        }
      ]
    },
    {
      "cell_type": "code",
      "metadata": {
        "colab": {
          "base_uri": "https://localhost:8080/",
          "height": 700
        },
        "id": "i-b29LOeuQNJ",
        "outputId": "ee96196e-a846-485c-9f89-607b4b84df1c"
      },
      "source": [
        "test.plot(kind = 'hist',bins = 50,figsize = (12,12))\n",
        "plt.show()"
      ],
      "execution_count": 36,
      "outputs": [
        {
          "output_type": "display_data",
          "data": {
            "image/png": "[encoded data removed]",
            "text/plain": [
              "<Figure size 864x864 with 1 Axes>"
            ]
          },
          "metadata": {
            "tags": [],
            "needs_background": "light"
          }
        }
      ]
    },
    {
      "cell_type": "markdown",
      "metadata": {
        "id": "0qdJBSgvUo26"
      },
      "source": [
        "==================================================================상관분석"
      ]
    },
    {
      "cell_type": "code",
      "metadata": {
        "colab": {
          "base_uri": "https://localhost:8080/",
          "height": 136
        },
        "id": "95zpxh3_TmWD",
        "outputId": "24700458-fd64-49f6-94f3-3170ef8fcca1"
      },
      "source": [
        "sns.pairplot(test ## 시간오래걸림 하려면 )추가 , 변수를 여러가지 방법으로 시각화하는것"
      ],
      "execution_count": 37,
      "outputs": [
        {
          "output_type": "error",
          "ename": "SyntaxError",
          "evalue": "ignored",
          "traceback": [
            "\u001b[0;36m  File \u001b[0;32m\"<ipython-input-37-9f11e9dca541>\"\u001b[0;36m, line \u001b[0;32m1\u001b[0m\n\u001b[0;31m    sns.pairplot(test ## 시간오래걸림 하려면 )추가 , 변수를 여러가지 방법으로 시각화하는것\u001b[0m\n\u001b[0m                                                              ^\u001b[0m\n\u001b[0;31mSyntaxError\u001b[0m\u001b[0;31m:\u001b[0m unexpected EOF while parsing\n"
          ]
        }
      ]
    },
    {
      "cell_type": "code",
      "metadata": {
        "id": "4A4Z_VTyoaf8"
      },
      "source": [
        "y = test.center_p\n",
        "fn = ['city_p']\n",
        "x = test[fn]   # x 와 y 변수 설정"
      ],
      "execution_count": 39,
      "outputs": []
    },
    {
      "cell_type": "code",
      "metadata": {
        "colab": {
          "base_uri": "https://localhost:8080/"
        },
        "id": "f56YXvEp1JWx",
        "outputId": "d5a509cf-0af5-4913-f40e-c046c2328788"
      },
      "source": [
        "from sklearn.tree import DecisionTreeRegressor\n",
        "iowa_model = DecisionTreeRegressor(random_state=1)\n",
        "iowa_model.fit(x,y) #랜덤값으로 의사결정트리생성"
      ],
      "execution_count": 40,
      "outputs": [
        {
          "output_type": "execute_result",
          "data": {
            "text/plain": [
              "DecisionTreeRegressor(ccp_alpha=0.0, criterion='mse', max_depth=None,\n",
              "                      max_features=None, max_leaf_nodes=None,\n",
              "                      min_impurity_decrease=0.0, min_impurity_split=None,\n",
              "                      min_samples_leaf=1, min_samples_split=2,\n",
              "                      min_weight_fraction_leaf=0.0, presort='deprecated',\n",
              "                      random_state=1, splitter='best')"
            ]
          },
          "metadata": {
            "tags": []
          },
          "execution_count": 40
        }
      ]
    },
    {
      "cell_type": "markdown",
      "metadata": {
        "id": "8WAALItBG9sh"
      },
      "source": [
        ""
      ]
    },
    {
      "cell_type": "code",
      "metadata": {
        "colab": {
          "base_uri": "https://localhost:8080/"
        },
        "id": "yeCtBZxZ1fxD",
        "outputId": "f40d6d66-4f20-41a9-81db-6d24e8324ded"
      },
      "source": [
        "predictions = iowa_model.predict(x)\n",
        "print(predictions)"
      ],
      "execution_count": 41,
      "outputs": [
        {
          "output_type": "stream",
          "text": [
            "[243.  26.  44.  16. 140.  72.  28.  82.  63.  48. 170. 111.  42. 209.\n",
            " 175.  78.   2.  72. 144.  68.  93.  28.  95.  68. 154. 215. 132. 225.\n",
            "  48. 441.  40.  20.  61.  94.  38. 265.  98. 240.  97. 252. 137. 102.\n",
            "  43. 376. 125.   0.  96. 195.]\n"
          ],
          "name": "stdout"
        }
      ]
    },
    {
      "cell_type": "code",
      "metadata": {
        "id": "hsCTTR5Z1tDC"
      },
      "source": [
        ""
      ],
      "execution_count": null,
      "outputs": []
    }
  ]
}