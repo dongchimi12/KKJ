{
  "nbformat": 4,
  "nbformat_minor": 0,
  "metadata": {
    "colab": {
      "name": "Contest test pile.ipynb",
      "provenance": [],
      "collapsed_sections": [],
      "authorship_tag": "ABX9TyNDwKUdhaePYvQ/YQQ3RXEV",
      "include_colab_link": true
    },
    "kernelspec": {
      "name": "python3",
      "display_name": "Python 3"
    },
    "language_info": {
      "name": "python"
    }
  },
  "cells": [
    {
      "cell_type": "markdown",
      "metadata": {
        "id": "view-in-github",
        "colab_type": "text"
      },
      "source": [
        "<a href=\"https://colab.research.google.com/github/dongchimi12/KKJ/blob/main/%EC%B5%9C%EC%A2%85%20%EB%8D%B0%EC%9D%B4%ED%84%B0%20%EB%B6%84%EC%84%9D%EA%B2%B0%EA%B3%BC.ipynb\" target=\"_parent\"><img src=\"https://colab.research.google.com/assets/colab-badge.svg\" alt=\"Open In Colab\"/></a>"
      ]
    },
    {
      "cell_type": "code",
      "metadata": {
        "id": "VmBujtBqDhx-"
      },
      "source": [
        "import pandas as pd\n",
        "import numpy as np\n",
        "import matplotlib.pyplot as plt\n",
        "import seaborn as sns\n",
        "from sklearn import datasets"
      ],
      "execution_count": 23,
      "outputs": []
    },
    {
      "cell_type": "code",
      "metadata": {
        "id": "VH-sQwkEDji2",
        "colab": {
          "base_uri": "https://localhost:8080/"
        },
        "outputId": "18a853c6-2dfe-4e94-b6ec-5f990d1033d2"
      },
      "source": [
        "from google.colab import drive\n",
        "drive.mount('/content/drive')   ## 링크 클릭해서 구글 로그인 한후에 드라이브에 데이터 넣고 [3]에 파일 이름만 바꿔주면 됨"
      ],
      "execution_count": 24,
      "outputs": [
        {
          "output_type": "stream",
          "text": [
            "Drive already mounted at /content/drive; to attempt to forcibly remount, call drive.mount(\"/content/drive\", force_remount=True).\n"
          ],
          "name": "stdout"
        }
      ]
    },
    {
      "cell_type": "code",
      "metadata": {
        "id": "zeWErXUcDkel"
      },
      "source": [
        "test = pd.read_csv('/content/drive/My Drive/contest/test.csv') ## 파일 test에 저장"
      ],
      "execution_count": 25,
      "outputs": []
    },
    {
      "cell_type": "code",
      "metadata": {
        "colab": {
          "base_uri": "https://localhost:8080/",
          "height": 204
        },
        "id": "dGAWW0EsTCcl",
        "outputId": "c450b468-61bc-4288-f851-27fbd317d280"
      },
      "source": [
        "test.head(5) ## 위에서 5행까지 출력 test용"
      ],
      "execution_count": 26,
      "outputs": [
        {
          "output_type": "execute_result",
          "data": {
            "text/html": [
              "<div>\n",
              "<style scoped>\n",
              "    .dataframe tbody tr th:only-of-type {\n",
              "        vertical-align: middle;\n",
              "    }\n",
              "\n",
              "    .dataframe tbody tr th {\n",
              "        vertical-align: top;\n",
              "    }\n",
              "\n",
              "    .dataframe thead th {\n",
              "        text-align: right;\n",
              "    }\n",
              "</style>\n",
              "<table border=\"1\" class=\"dataframe\">\n",
              "  <thead>\n",
              "    <tr style=\"text-align: right;\">\n",
              "      <th></th>\n",
              "      <th>city</th>\n",
              "      <th>p_count</th>\n",
              "      <th>s_count</th>\n",
              "      <th>e_count</th>\n",
              "      <th>w_count</th>\n",
              "      <th>people</th>\n",
              "      <th>old</th>\n",
              "      <th>park</th>\n",
              "      <th>mart</th>\n",
              "    </tr>\n",
              "  </thead>\n",
              "  <tbody>\n",
              "    <tr>\n",
              "      <th>0</th>\n",
              "      <td>강남구</td>\n",
              "      <td>291</td>\n",
              "      <td>1064</td>\n",
              "      <td>73</td>\n",
              "      <td>698840</td>\n",
              "      <td>537024</td>\n",
              "      <td>76</td>\n",
              "      <td>162</td>\n",
              "      <td>1568</td>\n",
              "    </tr>\n",
              "    <tr>\n",
              "      <th>1</th>\n",
              "      <td>강동구</td>\n",
              "      <td>67</td>\n",
              "      <td>469</td>\n",
              "      <td>68</td>\n",
              "      <td>141770</td>\n",
              "      <td>469356</td>\n",
              "      <td>53</td>\n",
              "      <td>125</td>\n",
              "      <td>1130</td>\n",
              "    </tr>\n",
              "    <tr>\n",
              "      <th>2</th>\n",
              "      <td>강북구</td>\n",
              "      <td>130</td>\n",
              "      <td>225</td>\n",
              "      <td>74</td>\n",
              "      <td>73904</td>\n",
              "      <td>306625</td>\n",
              "      <td>111</td>\n",
              "      <td>84</td>\n",
              "      <td>774</td>\n",
              "    </tr>\n",
              "    <tr>\n",
              "      <th>3</th>\n",
              "      <td>강서구</td>\n",
              "      <td>165</td>\n",
              "      <td>582</td>\n",
              "      <td>70</td>\n",
              "      <td>257494</td>\n",
              "      <td>582950</td>\n",
              "      <td>179</td>\n",
              "      <td>175</td>\n",
              "      <td>745</td>\n",
              "    </tr>\n",
              "    <tr>\n",
              "      <th>4</th>\n",
              "      <td>관악구</td>\n",
              "      <td>157</td>\n",
              "      <td>381</td>\n",
              "      <td>75</td>\n",
              "      <td>115329</td>\n",
              "      <td>503171</td>\n",
              "      <td>108</td>\n",
              "      <td>113</td>\n",
              "      <td>998</td>\n",
              "    </tr>\n",
              "  </tbody>\n",
              "</table>\n",
              "</div>"
            ],
            "text/plain": [
              "  city  p_count  s_count  e_count  w_count  people  old  park  mart\n",
              "0  강남구      291     1064       73   698840  537024   76   162  1568\n",
              "1  강동구       67      469       68   141770  469356   53   125  1130\n",
              "2  강북구      130      225       74    73904  306625  111    84   774\n",
              "3  강서구      165      582       70   257494  582950  179   175   745\n",
              "4  관악구      157      381       75   115329  503171  108   113   998"
            ]
          },
          "metadata": {
            "tags": []
          },
          "execution_count": 26
        }
      ]
    },
    {
      "cell_type": "code",
      "metadata": {
        "colab": {
          "base_uri": "https://localhost:8080/"
        },
        "id": "ZY9ZSFtyTY9o",
        "outputId": "9f54616e-a7ad-491d-caa9-f77da60a3615"
      },
      "source": [
        "test.info()\n",
        "test.columns ## 행수 count , datatype\n",
        "test.isnull().sum() ## 빈칸 찾기"
      ],
      "execution_count": 27,
      "outputs": [
        {
          "output_type": "stream",
          "text": [
            "<class 'pandas.core.frame.DataFrame'>\n",
            "RangeIndex: 25 entries, 0 to 24\n",
            "Data columns (total 9 columns):\n",
            " #   Column   Non-Null Count  Dtype \n",
            "---  ------   --------------  ----- \n",
            " 0   city     25 non-null     object\n",
            " 1   p_count  25 non-null     int64 \n",
            " 2   s_count  25 non-null     int64 \n",
            " 3   e_count  25 non-null     int64 \n",
            " 4   w_count  25 non-null     int64 \n",
            " 5   people   25 non-null     int64 \n",
            " 6   old      25 non-null     int64 \n",
            " 7   park     25 non-null     int64 \n",
            " 8   mart     25 non-null     int64 \n",
            "dtypes: int64(8), object(1)\n",
            "memory usage: 1.9+ KB\n"
          ],
          "name": "stdout"
        },
        {
          "output_type": "execute_result",
          "data": {
            "text/plain": [
              "city       0\n",
              "p_count    0\n",
              "s_count    0\n",
              "e_count    0\n",
              "w_count    0\n",
              "people     0\n",
              "old        0\n",
              "park       0\n",
              "mart       0\n",
              "dtype: int64"
            ]
          },
          "metadata": {
            "tags": []
          },
          "execution_count": 27
        }
      ]
    },
    {
      "cell_type": "code",
      "metadata": {
        "id": "0g-f-nuvTqwX",
        "colab": {
          "base_uri": "https://localhost:8080/",
          "height": 297
        },
        "outputId": "dfb9da2c-a95b-4aaf-bb06-4eef3688870a"
      },
      "source": [
        "df = pd.DataFrame(test) ## pandas 이용 dataframe 생성\n",
        "\n",
        "corr = df.corr(method = 'pearson') ## 상관계수 분석 (전체)\n",
        "corr"
      ],
      "execution_count": 28,
      "outputs": [
        {
          "output_type": "execute_result",
          "data": {
            "text/html": [
              "<div>\n",
              "<style scoped>\n",
              "    .dataframe tbody tr th:only-of-type {\n",
              "        vertical-align: middle;\n",
              "    }\n",
              "\n",
              "    .dataframe tbody tr th {\n",
              "        vertical-align: top;\n",
              "    }\n",
              "\n",
              "    .dataframe thead th {\n",
              "        text-align: right;\n",
              "    }\n",
              "</style>\n",
              "<table border=\"1\" class=\"dataframe\">\n",
              "  <thead>\n",
              "    <tr style=\"text-align: right;\">\n",
              "      <th></th>\n",
              "      <th>p_count</th>\n",
              "      <th>s_count</th>\n",
              "      <th>e_count</th>\n",
              "      <th>w_count</th>\n",
              "      <th>people</th>\n",
              "      <th>old</th>\n",
              "      <th>park</th>\n",
              "      <th>mart</th>\n",
              "    </tr>\n",
              "  </thead>\n",
              "  <tbody>\n",
              "    <tr>\n",
              "      <th>p_count</th>\n",
              "      <td>1.000000</td>\n",
              "      <td>0.622615</td>\n",
              "      <td>0.097290</td>\n",
              "      <td>0.388756</td>\n",
              "      <td>0.644402</td>\n",
              "      <td>-0.342730</td>\n",
              "      <td>0.634825</td>\n",
              "      <td>-0.415915</td>\n",
              "    </tr>\n",
              "    <tr>\n",
              "      <th>s_count</th>\n",
              "      <td>0.622615</td>\n",
              "      <td>1.000000</td>\n",
              "      <td>0.058658</td>\n",
              "      <td>0.808650</td>\n",
              "      <td>0.633689</td>\n",
              "      <td>-0.361977</td>\n",
              "      <td>0.605871</td>\n",
              "      <td>-0.103860</td>\n",
              "    </tr>\n",
              "    <tr>\n",
              "      <th>e_count</th>\n",
              "      <td>0.097290</td>\n",
              "      <td>0.058658</td>\n",
              "      <td>1.000000</td>\n",
              "      <td>0.069948</td>\n",
              "      <td>-0.135966</td>\n",
              "      <td>-0.110169</td>\n",
              "      <td>-0.073430</td>\n",
              "      <td>-0.085598</td>\n",
              "    </tr>\n",
              "    <tr>\n",
              "      <th>w_count</th>\n",
              "      <td>0.388756</td>\n",
              "      <td>0.808650</td>\n",
              "      <td>0.069948</td>\n",
              "      <td>1.000000</td>\n",
              "      <td>0.133788</td>\n",
              "      <td>-0.158262</td>\n",
              "      <td>0.349522</td>\n",
              "      <td>0.315232</td>\n",
              "    </tr>\n",
              "    <tr>\n",
              "      <th>people</th>\n",
              "      <td>0.644402</td>\n",
              "      <td>0.633689</td>\n",
              "      <td>-0.135966</td>\n",
              "      <td>0.133788</td>\n",
              "      <td>1.000000</td>\n",
              "      <td>-0.433861</td>\n",
              "      <td>0.723426</td>\n",
              "      <td>-0.571025</td>\n",
              "    </tr>\n",
              "    <tr>\n",
              "      <th>old</th>\n",
              "      <td>-0.342730</td>\n",
              "      <td>-0.361977</td>\n",
              "      <td>-0.110169</td>\n",
              "      <td>-0.158262</td>\n",
              "      <td>-0.433861</td>\n",
              "      <td>1.000000</td>\n",
              "      <td>-0.297652</td>\n",
              "      <td>0.218623</td>\n",
              "    </tr>\n",
              "    <tr>\n",
              "      <th>park</th>\n",
              "      <td>0.634825</td>\n",
              "      <td>0.605871</td>\n",
              "      <td>-0.073430</td>\n",
              "      <td>0.349522</td>\n",
              "      <td>0.723426</td>\n",
              "      <td>-0.297652</td>\n",
              "      <td>1.000000</td>\n",
              "      <td>-0.263856</td>\n",
              "    </tr>\n",
              "    <tr>\n",
              "      <th>mart</th>\n",
              "      <td>-0.415915</td>\n",
              "      <td>-0.103860</td>\n",
              "      <td>-0.085598</td>\n",
              "      <td>0.315232</td>\n",
              "      <td>-0.571025</td>\n",
              "      <td>0.218623</td>\n",
              "      <td>-0.263856</td>\n",
              "      <td>1.000000</td>\n",
              "    </tr>\n",
              "  </tbody>\n",
              "</table>\n",
              "</div>"
            ],
            "text/plain": [
              "          p_count   s_count   e_count  ...       old      park      mart\n",
              "p_count  1.000000  0.622615  0.097290  ... -0.342730  0.634825 -0.415915\n",
              "s_count  0.622615  1.000000  0.058658  ... -0.361977  0.605871 -0.103860\n",
              "e_count  0.097290  0.058658  1.000000  ... -0.110169 -0.073430 -0.085598\n",
              "w_count  0.388756  0.808650  0.069948  ... -0.158262  0.349522  0.315232\n",
              "people   0.644402  0.633689 -0.135966  ... -0.433861  0.723426 -0.571025\n",
              "old     -0.342730 -0.361977 -0.110169  ...  1.000000 -0.297652  0.218623\n",
              "park     0.634825  0.605871 -0.073430  ... -0.297652  1.000000 -0.263856\n",
              "mart    -0.415915 -0.103860 -0.085598  ...  0.218623 -0.263856  1.000000\n",
              "\n",
              "[8 rows x 8 columns]"
            ]
          },
          "metadata": {
            "tags": []
          },
          "execution_count": 28
        }
      ]
    },
    {
      "cell_type": "code",
      "metadata": {
        "colab": {
          "base_uri": "https://localhost:8080/",
          "height": 824
        },
        "id": "wJcA6a8rgq72",
        "outputId": "0bbb7727-9f58-4a05-f04e-d2dca4af73ac"
      },
      "source": [
        "tdf = df[['p_count', 's_count', 'e_count', 'people']] ## 열 추출해서 가공\n",
        "tdf"
      ],
      "execution_count": 46,
      "outputs": [
        {
          "output_type": "execute_result",
          "data": {
            "text/html": [
              "<div>\n",
              "<style scoped>\n",
              "    .dataframe tbody tr th:only-of-type {\n",
              "        vertical-align: middle;\n",
              "    }\n",
              "\n",
              "    .dataframe tbody tr th {\n",
              "        vertical-align: top;\n",
              "    }\n",
              "\n",
              "    .dataframe thead th {\n",
              "        text-align: right;\n",
              "    }\n",
              "</style>\n",
              "<table border=\"1\" class=\"dataframe\">\n",
              "  <thead>\n",
              "    <tr style=\"text-align: right;\">\n",
              "      <th></th>\n",
              "      <th>p_count</th>\n",
              "      <th>s_count</th>\n",
              "      <th>e_count</th>\n",
              "      <th>people</th>\n",
              "    </tr>\n",
              "  </thead>\n",
              "  <tbody>\n",
              "    <tr>\n",
              "      <th>0</th>\n",
              "      <td>291</td>\n",
              "      <td>1064</td>\n",
              "      <td>73</td>\n",
              "      <td>537024</td>\n",
              "    </tr>\n",
              "    <tr>\n",
              "      <th>1</th>\n",
              "      <td>67</td>\n",
              "      <td>469</td>\n",
              "      <td>68</td>\n",
              "      <td>469356</td>\n",
              "    </tr>\n",
              "    <tr>\n",
              "      <th>2</th>\n",
              "      <td>130</td>\n",
              "      <td>225</td>\n",
              "      <td>74</td>\n",
              "      <td>306625</td>\n",
              "    </tr>\n",
              "    <tr>\n",
              "      <th>3</th>\n",
              "      <td>165</td>\n",
              "      <td>582</td>\n",
              "      <td>70</td>\n",
              "      <td>582950</td>\n",
              "    </tr>\n",
              "    <tr>\n",
              "      <th>4</th>\n",
              "      <td>157</td>\n",
              "      <td>381</td>\n",
              "      <td>75</td>\n",
              "      <td>503171</td>\n",
              "    </tr>\n",
              "    <tr>\n",
              "      <th>5</th>\n",
              "      <td>104</td>\n",
              "      <td>359</td>\n",
              "      <td>74</td>\n",
              "      <td>355662</td>\n",
              "    </tr>\n",
              "    <tr>\n",
              "      <th>6</th>\n",
              "      <td>156</td>\n",
              "      <td>485</td>\n",
              "      <td>77</td>\n",
              "      <td>425573</td>\n",
              "    </tr>\n",
              "    <tr>\n",
              "      <th>7</th>\n",
              "      <td>87</td>\n",
              "      <td>306</td>\n",
              "      <td>67</td>\n",
              "      <td>244535</td>\n",
              "    </tr>\n",
              "    <tr>\n",
              "      <th>8</th>\n",
              "      <td>233</td>\n",
              "      <td>382</td>\n",
              "      <td>66</td>\n",
              "      <td>520615</td>\n",
              "    </tr>\n",
              "    <tr>\n",
              "      <th>9</th>\n",
              "      <td>100</td>\n",
              "      <td>272</td>\n",
              "      <td>74</td>\n",
              "      <td>322745</td>\n",
              "    </tr>\n",
              "    <tr>\n",
              "      <th>10</th>\n",
              "      <td>52</td>\n",
              "      <td>286</td>\n",
              "      <td>67</td>\n",
              "      <td>352498</td>\n",
              "    </tr>\n",
              "    <tr>\n",
              "      <th>11</th>\n",
              "      <td>122</td>\n",
              "      <td>263</td>\n",
              "      <td>73</td>\n",
              "      <td>397960</td>\n",
              "    </tr>\n",
              "    <tr>\n",
              "      <th>12</th>\n",
              "      <td>125</td>\n",
              "      <td>390</td>\n",
              "      <td>79</td>\n",
              "      <td>380015</td>\n",
              "    </tr>\n",
              "    <tr>\n",
              "      <th>13</th>\n",
              "      <td>137</td>\n",
              "      <td>245</td>\n",
              "      <td>75</td>\n",
              "      <td>318094</td>\n",
              "    </tr>\n",
              "    <tr>\n",
              "      <th>14</th>\n",
              "      <td>203</td>\n",
              "      <td>750</td>\n",
              "      <td>74</td>\n",
              "      <td>422887</td>\n",
              "    </tr>\n",
              "    <tr>\n",
              "      <th>15</th>\n",
              "      <td>53</td>\n",
              "      <td>271</td>\n",
              "      <td>63</td>\n",
              "      <td>296306</td>\n",
              "    </tr>\n",
              "    <tr>\n",
              "      <th>16</th>\n",
              "      <td>157</td>\n",
              "      <td>354</td>\n",
              "      <td>76</td>\n",
              "      <td>443585</td>\n",
              "    </tr>\n",
              "    <tr>\n",
              "      <th>17</th>\n",
              "      <td>147</td>\n",
              "      <td>707</td>\n",
              "      <td>64</td>\n",
              "      <td>665134</td>\n",
              "    </tr>\n",
              "    <tr>\n",
              "      <th>18</th>\n",
              "      <td>158</td>\n",
              "      <td>444</td>\n",
              "      <td>74</td>\n",
              "      <td>454849</td>\n",
              "    </tr>\n",
              "    <tr>\n",
              "      <th>19</th>\n",
              "      <td>86</td>\n",
              "      <td>691</td>\n",
              "      <td>84</td>\n",
              "      <td>402863</td>\n",
              "    </tr>\n",
              "    <tr>\n",
              "      <th>20</th>\n",
              "      <td>40</td>\n",
              "      <td>168</td>\n",
              "      <td>78</td>\n",
              "      <td>241840</td>\n",
              "    </tr>\n",
              "    <tr>\n",
              "      <th>21</th>\n",
              "      <td>49</td>\n",
              "      <td>466</td>\n",
              "      <td>69</td>\n",
              "      <td>479217</td>\n",
              "    </tr>\n",
              "    <tr>\n",
              "      <th>22</th>\n",
              "      <td>38</td>\n",
              "      <td>203</td>\n",
              "      <td>72</td>\n",
              "      <td>155584</td>\n",
              "    </tr>\n",
              "    <tr>\n",
              "      <th>23</th>\n",
              "      <td>33</td>\n",
              "      <td>374</td>\n",
              "      <td>70</td>\n",
              "      <td>132399</td>\n",
              "    </tr>\n",
              "    <tr>\n",
              "      <th>24</th>\n",
              "      <td>115</td>\n",
              "      <td>354</td>\n",
              "      <td>70</td>\n",
              "      <td>395241</td>\n",
              "    </tr>\n",
              "  </tbody>\n",
              "</table>\n",
              "</div>"
            ],
            "text/plain": [
              "    p_count  s_count  e_count  people\n",
              "0       291     1064       73  537024\n",
              "1        67      469       68  469356\n",
              "2       130      225       74  306625\n",
              "3       165      582       70  582950\n",
              "4       157      381       75  503171\n",
              "5       104      359       74  355662\n",
              "6       156      485       77  425573\n",
              "7        87      306       67  244535\n",
              "8       233      382       66  520615\n",
              "9       100      272       74  322745\n",
              "10       52      286       67  352498\n",
              "11      122      263       73  397960\n",
              "12      125      390       79  380015\n",
              "13      137      245       75  318094\n",
              "14      203      750       74  422887\n",
              "15       53      271       63  296306\n",
              "16      157      354       76  443585\n",
              "17      147      707       64  665134\n",
              "18      158      444       74  454849\n",
              "19       86      691       84  402863\n",
              "20       40      168       78  241840\n",
              "21       49      466       69  479217\n",
              "22       38      203       72  155584\n",
              "23       33      374       70  132399\n",
              "24      115      354       70  395241"
            ]
          },
          "metadata": {
            "tags": []
          },
          "execution_count": 46
        }
      ]
    },
    {
      "cell_type": "code",
      "metadata": {
        "colab": {
          "base_uri": "https://localhost:8080/",
          "height": 334
        },
        "id": "lhH4k2BhjyH0",
        "outputId": "a4f1b6c3-9942-4741-aa7d-e0cc4fe18bb0"
      },
      "source": [
        "tdf.plot(kind='scatter', x='e_count', y='p_count',  c='coral', s=10, figsize=(10, 5))\n",
        "plt.show()"
      ],
      "execution_count": 33,
      "outputs": [
        {
          "output_type": "display_data",
          "data": {
            "image/png": "[encoded data removed]",
            "text/plain": [
              "<Figure size 720x360 with 1 Axes>"
            ]
          },
          "metadata": {
            "tags": [],
            "needs_background": "light"
          }
        }
      ]
    },
    {
      "cell_type": "code",
      "metadata": {
        "colab": {
          "base_uri": "https://localhost:8080/",
          "height": 338
        },
        "id": "Fo5xkS8qkQoX",
        "outputId": "b8484237-2659-4ea0-982c-d9036a64d0b8"
      },
      "source": [
        "fig = plt.figure(figsize=(10, 5))  \n",
        "ax1 = fig.add_subplot(1, 2, 1)\n",
        "sns.regplot(x='e_count', y='p_count', data=tdf, ax=ax1)                 # 회귀선 표시\n",
        "plt.show()"
      ],
      "execution_count": 34,
      "outputs": [
        {
          "output_type": "display_data",
          "data": {
            "image/png": "[encoded data removed]",
            "text/plain": [
              "<Figure size 720x360 with 2 Axes>"
            ]
          },
          "metadata": {
            "tags": [],
            "needs_background": "light"
          }
        }
      ]
    },
    {
      "cell_type": "code",
      "metadata": {
        "colab": {
          "base_uri": "https://localhost:8080/",
          "height": 759
        },
        "id": "sXvL2NofSsNR",
        "outputId": "8ab678da-e548-4585-a47f-6e33587c66fd"
      },
      "source": [
        "f,ax = plt.subplots(figsize=(13, 13))\n",
        "sns.heatmap(test.corr(), annot=True, linewidths=.5, fmt= '.2f',ax=ax)\n",
        "plt.show()"
      ],
      "execution_count": 38,
      "outputs": [
        {
          "output_type": "display_data",
          "data": {
            "image/png": "[encoded data removed]",
            "text/plain": [
              "<Figure size 936x936 with 2 Axes>"
            ]
          },
          "metadata": {
            "tags": [],
            "needs_background": "light"
          }
        }
      ]
    },
    {
      "cell_type": "code",
      "metadata": {
        "id": "HSxvLiQhp3b2",
        "colab": {
          "base_uri": "https://localhost:8080/",
          "height": 334
        },
        "outputId": "a5de6df3-88be-4dc4-c8bd-b4d13013f903"
      },
      "source": [
        "fig = plt.figure(figsize=(10, 5))   \n",
        "ax1 = fig.add_subplot(1, 2, 1)\n",
        "sns.regplot(x='people', y='s_count', data=tdf)                 # 회귀선 표시\n",
        "plt.show()"
      ],
      "execution_count": 60,
      "outputs": [
        {
          "output_type": "display_data",
          "data": {
            "image/png": "[encoded data removed]",
            "text/plain": [
              "<Figure size 720x360 with 1 Axes>"
            ]
          },
          "metadata": {
            "tags": [],
            "needs_background": "light"
          }
        }
      ]
    },
    {
      "cell_type": "code",
      "metadata": {
        "id": "3EJEXX7ikapp",
        "outputId": "aee0e386-d688-443b-8293-f7ac14f30339",
        "colab": {
          "base_uri": "https://localhost:8080/",
          "height": 297
        }
      },
      "source": [
        "test.plot(kind = 'scatter', x = 'people', y = 's_count',)"
      ],
      "execution_count": 58,
      "outputs": [
        {
          "output_type": "execute_result",
          "data": {
            "text/plain": [
              "<matplotlib.axes._subplots.AxesSubplot at 0x7f3a6f0bc9d0>"
            ]
          },
          "metadata": {
            "tags": []
          },
          "execution_count": 58
        },
        {
          "output_type": "display_data",
          "data": {
            "image/png": "[encoded data removed]",
            "text/plain": [
              "<Figure size 432x288 with 1 Axes>"
            ]
          },
          "metadata": {
            "tags": [],
            "needs_background": "light"
          }
        }
      ]
    },
    {
      "cell_type": "code",
      "metadata": {
        "id": "Lh4E21xsSyaA"
      },
      "source": [
        "test.plot(kind=\"scatter\", x=\"TEST_AGE_SIXTIES\", y=\"TEST_AGE_OLDER70\", alpha=0.1, title=\"contract\") ## 산점도 밀집도 분석"
      ],
      "execution_count": null,
      "outputs": []
    },
    {
      "cell_type": "code",
      "metadata": {
        "id": "i-b29LOeuQNJ"
      },
      "source": [
        "test.plot(kind = 'hist',bins = 50,figsize = (12,12))\n",
        "plt.show()"
      ],
      "execution_count": null,
      "outputs": []
    },
    {
      "cell_type": "markdown",
      "metadata": {
        "id": "0qdJBSgvUo26"
      },
      "source": [
        "==================================================================상관분석"
      ]
    },
    {
      "cell_type": "code",
      "metadata": {
        "id": "95zpxh3_TmWD"
      },
      "source": [
        "sns.pairplot(test ## 시간오래걸림 하려면 )추가 , 변수를 여러가지 방법으로 시각화하는것"
      ],
      "execution_count": null,
      "outputs": []
    },
    {
      "cell_type": "code",
      "metadata": {
        "id": "4A4Z_VTyoaf8"
      },
      "source": [
        "y = test.TEST_ALL_CNT\n",
        "fn = ['TEST_AGE_OLDER70', 'TEST_AGE_SIXTIES']\n",
        "x = test[fn]   # x 와 y 변수 설정"
      ],
      "execution_count": null,
      "outputs": []
    },
    {
      "cell_type": "code",
      "metadata": {
        "id": "f56YXvEp1JWx"
      },
      "source": [
        "from sklearn.tree import DecisionTreeRegressor\n",
        "iowa_model = DecisionTreeRegressor(random_state=1)\n",
        "iowa_model.fit(x,y) #랜덤값으로 의사결정트리생성"
      ],
      "execution_count": null,
      "outputs": []
    },
    {
      "cell_type": "code",
      "metadata": {
        "id": "yeCtBZxZ1fxD"
      },
      "source": [
        "predictions = iowa_model.predict(x)\n",
        "print(predictions)"
      ],
      "execution_count": null,
      "outputs": []
    },
    {
      "cell_type": "code",
      "metadata": {
        "id": "hsCTTR5Z1tDC"
      },
      "source": [
        ""
      ],
      "execution_count": null,
      "outputs": []
    }
  ]
}